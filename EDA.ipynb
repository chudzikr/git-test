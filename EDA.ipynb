{
 "cells": [
  {
   "cell_type": "code",
   "execution_count": null,
   "metadata": {
    "collapsed": true
   },
   "outputs": [],
   "source": [
    "# Kaggle - Humble Intro to Analysis with Pandas and Seaborn\n",
    "# https://www.kaggle.com/crawford/humble-intro-to-analysis-with-pandas-and-seaborn/"
   ]
  },
  {
   "cell_type": "code",
   "execution_count": 24,
   "metadata": {
    "collapsed": true
   },
   "outputs": [],
   "source": [
    "# Numpy is generally used for making fancier lists called arrays and series. \n",
    "import numpy as np \n",
    "\n",
    "# Pandas is super important, it's the foundation data analysis library we're using.\n",
    "import pandas as pd \n",
    "\n",
    "# Matplotlib is the python plotting library and folks generally import it as \"plt\"\n",
    "import matplotlib.pyplot as plt \n",
    "\n",
    "# Seaborn is a wrapper for Matplotlib and makes some things easier, generally imported as \"sns\"\n",
    "import seaborn as sns\n",
    "\n",
    "# Show plots inline\n",
    "%matplotlib inline"
   ]
  },
  {
   "cell_type": "code",
   "execution_count": null,
   "metadata": {},
   "outputs": [],
   "source": [
    "# Dataset location\n",
    "database = 'data/database.csv'\n",
    "\n",
    "# Read in a CSV file and store the contents in a dataframe (df)\n",
    "# We're using the argument low_memory=False because this dataset has some funky datatypes and gives us a warning\n",
    "df = pd.read_csv(database, low_memory=False)"
   ]
  },
  {
   "cell_type": "code",
   "execution_count": 8,
   "metadata": {},
   "outputs": [
    {
     "data": {
      "text/plain": [
       "(174104, 66)"
      ]
     },
     "execution_count": 8,
     "metadata": {},
     "output_type": "execute_result"
    }
   ],
   "source": [
    "# Start a basicdata.info() examination of the data\n",
    "df.shape"
   ]
  },
  {
   "cell_type": "code",
   "execution_count": 37,
   "metadata": {},
   "outputs": [
    {
     "name": "stdout",
     "output_type": "stream",
     "text": [
      "<class 'pandas.core.frame.DataFrame'>\n",
      "RangeIndex: 111175 entries, 0 to 111174\n",
      "Data columns (total 8 columns):\n",
      "Incident Year     111175 non-null int64\n",
      "Incident Month    111175 non-null int64\n",
      "Incident Day      111175 non-null int64\n",
      "Operator          111175 non-null object\n",
      "State             111175 non-null object\n",
      "Airport           111175 non-null object\n",
      "Flight Phase      111175 non-null object\n",
      "Species Name      111175 non-null object\n",
      "dtypes: int64(3), object(5)\n",
      "memory usage: 6.8+ MB\n"
     ]
    }
   ],
   "source": [
    "# Get layout of data file\n",
    "df.info()"
   ]
  },
  {
   "cell_type": "code",
   "execution_count": 39,
   "metadata": {},
   "outputs": [
    {
     "data": {
      "text/html": [
       "<div>\n",
       "<style>\n",
       "    .dataframe thead tr:only-child th {\n",
       "        text-align: right;\n",
       "    }\n",
       "\n",
       "    .dataframe thead th {\n",
       "        text-align: left;\n",
       "    }\n",
       "\n",
       "    .dataframe tbody tr th {\n",
       "        vertical-align: top;\n",
       "    }\n",
       "</style>\n",
       "<table border=\"1\" class=\"dataframe\">\n",
       "  <thead>\n",
       "    <tr style=\"text-align: right;\">\n",
       "      <th></th>\n",
       "      <th>Incident Year</th>\n",
       "      <th>Incident Month</th>\n",
       "      <th>Incident Day</th>\n",
       "    </tr>\n",
       "  </thead>\n",
       "  <tbody>\n",
       "    <tr>\n",
       "      <th>count</th>\n",
       "      <td>111175.000000</td>\n",
       "      <td>111175.000000</td>\n",
       "      <td>111175.000000</td>\n",
       "    </tr>\n",
       "    <tr>\n",
       "      <th>mean</th>\n",
       "      <td>2005.144511</td>\n",
       "      <td>7.183450</td>\n",
       "      <td>15.722276</td>\n",
       "    </tr>\n",
       "    <tr>\n",
       "      <th>std</th>\n",
       "      <td>6.985854</td>\n",
       "      <td>2.819463</td>\n",
       "      <td>8.805770</td>\n",
       "    </tr>\n",
       "    <tr>\n",
       "      <th>min</th>\n",
       "      <td>1990.000000</td>\n",
       "      <td>1.000000</td>\n",
       "      <td>1.000000</td>\n",
       "    </tr>\n",
       "    <tr>\n",
       "      <th>25%</th>\n",
       "      <td>2000.000000</td>\n",
       "      <td>5.000000</td>\n",
       "      <td>8.000000</td>\n",
       "    </tr>\n",
       "    <tr>\n",
       "      <th>50%</th>\n",
       "      <td>2006.000000</td>\n",
       "      <td>8.000000</td>\n",
       "      <td>16.000000</td>\n",
       "    </tr>\n",
       "    <tr>\n",
       "      <th>75%</th>\n",
       "      <td>2011.000000</td>\n",
       "      <td>9.000000</td>\n",
       "      <td>23.000000</td>\n",
       "    </tr>\n",
       "    <tr>\n",
       "      <th>max</th>\n",
       "      <td>2015.000000</td>\n",
       "      <td>12.000000</td>\n",
       "      <td>31.000000</td>\n",
       "    </tr>\n",
       "  </tbody>\n",
       "</table>\n",
       "</div>"
      ],
      "text/plain": [
       "       Incident Year  Incident Month   Incident Day\n",
       "count  111175.000000   111175.000000  111175.000000\n",
       "mean     2005.144511        7.183450      15.722276\n",
       "std         6.985854        2.819463       8.805770\n",
       "min      1990.000000        1.000000       1.000000\n",
       "25%      2000.000000        5.000000       8.000000\n",
       "50%      2006.000000        8.000000      16.000000\n",
       "75%      2011.000000        9.000000      23.000000\n",
       "max      2015.000000       12.000000      31.000000"
      ]
     },
     "execution_count": 39,
     "metadata": {},
     "output_type": "execute_result"
    }
   ],
   "source": [
    "# look at the distribution of the data\n",
    "df.describe()"
   ]
  },
  {
   "cell_type": "code",
   "execution_count": 9,
   "metadata": {},
   "outputs": [
    {
     "data": {
      "text/html": [
       "<div>\n",
       "<style>\n",
       "    .dataframe thead tr:only-child th {\n",
       "        text-align: right;\n",
       "    }\n",
       "\n",
       "    .dataframe thead th {\n",
       "        text-align: left;\n",
       "    }\n",
       "\n",
       "    .dataframe tbody tr th {\n",
       "        vertical-align: top;\n",
       "    }\n",
       "</style>\n",
       "<table border=\"1\" class=\"dataframe\">\n",
       "  <thead>\n",
       "    <tr style=\"text-align: right;\">\n",
       "      <th></th>\n",
       "      <th>Record ID</th>\n",
       "      <th>Incident Year</th>\n",
       "      <th>Incident Month</th>\n",
       "      <th>Incident Day</th>\n",
       "      <th>Operator ID</th>\n",
       "      <th>Operator</th>\n",
       "      <th>Aircraft</th>\n",
       "      <th>Aircraft Type</th>\n",
       "      <th>Aircraft Make</th>\n",
       "      <th>Aircraft Model</th>\n",
       "      <th>...</th>\n",
       "      <th>Fuselage Strike</th>\n",
       "      <th>Fuselage Damage</th>\n",
       "      <th>Landing Gear Strike</th>\n",
       "      <th>Landing Gear Damage</th>\n",
       "      <th>Tail Strike</th>\n",
       "      <th>Tail Damage</th>\n",
       "      <th>Lights Strike</th>\n",
       "      <th>Lights Damage</th>\n",
       "      <th>Other Strike</th>\n",
       "      <th>Other Damage</th>\n",
       "    </tr>\n",
       "  </thead>\n",
       "  <tbody>\n",
       "    <tr>\n",
       "      <th>0</th>\n",
       "      <td>127128</td>\n",
       "      <td>1990</td>\n",
       "      <td>1</td>\n",
       "      <td>1</td>\n",
       "      <td>DAL</td>\n",
       "      <td>DELTA AIR LINES</td>\n",
       "      <td>B-757-200</td>\n",
       "      <td>A</td>\n",
       "      <td>148</td>\n",
       "      <td>26</td>\n",
       "      <td>...</td>\n",
       "      <td>0</td>\n",
       "      <td>0</td>\n",
       "      <td>0</td>\n",
       "      <td>0</td>\n",
       "      <td>1</td>\n",
       "      <td>1</td>\n",
       "      <td>0</td>\n",
       "      <td>0</td>\n",
       "      <td>0</td>\n",
       "      <td>0</td>\n",
       "    </tr>\n",
       "    <tr>\n",
       "      <th>1</th>\n",
       "      <td>129779</td>\n",
       "      <td>1990</td>\n",
       "      <td>1</td>\n",
       "      <td>1</td>\n",
       "      <td>HAL</td>\n",
       "      <td>HAWAIIAN AIR</td>\n",
       "      <td>DC-9</td>\n",
       "      <td>A</td>\n",
       "      <td>583</td>\n",
       "      <td>90</td>\n",
       "      <td>...</td>\n",
       "      <td>0</td>\n",
       "      <td>0</td>\n",
       "      <td>0</td>\n",
       "      <td>0</td>\n",
       "      <td>0</td>\n",
       "      <td>0</td>\n",
       "      <td>0</td>\n",
       "      <td>0</td>\n",
       "      <td>1</td>\n",
       "      <td>0</td>\n",
       "    </tr>\n",
       "    <tr>\n",
       "      <th>2</th>\n",
       "      <td>129780</td>\n",
       "      <td>1990</td>\n",
       "      <td>1</td>\n",
       "      <td>2</td>\n",
       "      <td>UNK</td>\n",
       "      <td>UNKNOWN</td>\n",
       "      <td>UNKNOWN</td>\n",
       "      <td>NaN</td>\n",
       "      <td>NaN</td>\n",
       "      <td>NaN</td>\n",
       "      <td>...</td>\n",
       "      <td>0</td>\n",
       "      <td>0</td>\n",
       "      <td>0</td>\n",
       "      <td>0</td>\n",
       "      <td>0</td>\n",
       "      <td>0</td>\n",
       "      <td>0</td>\n",
       "      <td>0</td>\n",
       "      <td>0</td>\n",
       "      <td>0</td>\n",
       "    </tr>\n",
       "    <tr>\n",
       "      <th>3</th>\n",
       "      <td>2258</td>\n",
       "      <td>1990</td>\n",
       "      <td>1</td>\n",
       "      <td>3</td>\n",
       "      <td>MIL</td>\n",
       "      <td>MILITARY</td>\n",
       "      <td>A-10A</td>\n",
       "      <td>A</td>\n",
       "      <td>345</td>\n",
       "      <td>NaN</td>\n",
       "      <td>...</td>\n",
       "      <td>0</td>\n",
       "      <td>0</td>\n",
       "      <td>0</td>\n",
       "      <td>0</td>\n",
       "      <td>0</td>\n",
       "      <td>0</td>\n",
       "      <td>0</td>\n",
       "      <td>0</td>\n",
       "      <td>0</td>\n",
       "      <td>0</td>\n",
       "    </tr>\n",
       "  </tbody>\n",
       "</table>\n",
       "<p>4 rows × 66 columns</p>\n",
       "</div>"
      ],
      "text/plain": [
       "   Record ID  Incident Year  Incident Month  Incident Day Operator ID  \\\n",
       "0     127128           1990               1             1         DAL   \n",
       "1     129779           1990               1             1         HAL   \n",
       "2     129780           1990               1             2         UNK   \n",
       "3       2258           1990               1             3         MIL   \n",
       "\n",
       "          Operator   Aircraft Aircraft Type Aircraft Make Aircraft Model  \\\n",
       "0  DELTA AIR LINES  B-757-200             A           148             26   \n",
       "1     HAWAIIAN AIR       DC-9             A           583             90   \n",
       "2          UNKNOWN    UNKNOWN           NaN           NaN            NaN   \n",
       "3         MILITARY      A-10A             A           345            NaN   \n",
       "\n",
       "      ...       Fuselage Strike  Fuselage Damage Landing Gear Strike  \\\n",
       "0     ...                     0                0                   0   \n",
       "1     ...                     0                0                   0   \n",
       "2     ...                     0                0                   0   \n",
       "3     ...                     0                0                   0   \n",
       "\n",
       "   Landing Gear Damage Tail Strike Tail Damage  Lights Strike Lights Damage  \\\n",
       "0                    0           1           1              0             0   \n",
       "1                    0           0           0              0             0   \n",
       "2                    0           0           0              0             0   \n",
       "3                    0           0           0              0             0   \n",
       "\n",
       "   Other Strike Other Damage  \n",
       "0             0            0  \n",
       "1             1            0  \n",
       "2             0            0  \n",
       "3             0            0  \n",
       "\n",
       "[4 rows x 66 columns]"
      ]
     },
     "execution_count": 9,
     "metadata": {},
     "output_type": "execute_result"
    }
   ],
   "source": [
    "# Head() the dataframe\n",
    "df.head(4)"
   ]
  },
  {
   "cell_type": "code",
   "execution_count": 10,
   "metadata": {},
   "outputs": [
    {
     "data": {
      "text/html": [
       "<div>\n",
       "<style>\n",
       "    .dataframe thead tr:only-child th {\n",
       "        text-align: right;\n",
       "    }\n",
       "\n",
       "    .dataframe thead th {\n",
       "        text-align: left;\n",
       "    }\n",
       "\n",
       "    .dataframe tbody tr th {\n",
       "        vertical-align: top;\n",
       "    }\n",
       "</style>\n",
       "<table border=\"1\" class=\"dataframe\">\n",
       "  <thead>\n",
       "    <tr style=\"text-align: right;\">\n",
       "      <th></th>\n",
       "      <th>Record ID</th>\n",
       "      <th>Incident Year</th>\n",
       "      <th>Incident Month</th>\n",
       "      <th>Incident Day</th>\n",
       "      <th>Operator ID</th>\n",
       "      <th>Operator</th>\n",
       "      <th>Aircraft</th>\n",
       "      <th>Aircraft Type</th>\n",
       "      <th>Aircraft Make</th>\n",
       "      <th>Aircraft Model</th>\n",
       "      <th>...</th>\n",
       "      <th>Fuselage Strike</th>\n",
       "      <th>Fuselage Damage</th>\n",
       "      <th>Landing Gear Strike</th>\n",
       "      <th>Landing Gear Damage</th>\n",
       "      <th>Tail Strike</th>\n",
       "      <th>Tail Damage</th>\n",
       "      <th>Lights Strike</th>\n",
       "      <th>Lights Damage</th>\n",
       "      <th>Other Strike</th>\n",
       "      <th>Other Damage</th>\n",
       "    </tr>\n",
       "  </thead>\n",
       "  <tbody>\n",
       "    <tr>\n",
       "      <th>174100</th>\n",
       "      <td>365902</td>\n",
       "      <td>2015</td>\n",
       "      <td>9</td>\n",
       "      <td>30</td>\n",
       "      <td>SWA</td>\n",
       "      <td>SOUTHWEST AIRLINES</td>\n",
       "      <td>B-737-700</td>\n",
       "      <td>A</td>\n",
       "      <td>148</td>\n",
       "      <td>42</td>\n",
       "      <td>...</td>\n",
       "      <td>0</td>\n",
       "      <td>0</td>\n",
       "      <td>0</td>\n",
       "      <td>0</td>\n",
       "      <td>0</td>\n",
       "      <td>0</td>\n",
       "      <td>0</td>\n",
       "      <td>0</td>\n",
       "      <td>0</td>\n",
       "      <td>0</td>\n",
       "    </tr>\n",
       "    <tr>\n",
       "      <th>174101</th>\n",
       "      <td>365903</td>\n",
       "      <td>2015</td>\n",
       "      <td>9</td>\n",
       "      <td>30</td>\n",
       "      <td>BUS</td>\n",
       "      <td>BUSINESS</td>\n",
       "      <td>CITATIONJET</td>\n",
       "      <td>A</td>\n",
       "      <td>226</td>\n",
       "      <td>49</td>\n",
       "      <td>...</td>\n",
       "      <td>1</td>\n",
       "      <td>1</td>\n",
       "      <td>0</td>\n",
       "      <td>0</td>\n",
       "      <td>0</td>\n",
       "      <td>0</td>\n",
       "      <td>0</td>\n",
       "      <td>0</td>\n",
       "      <td>0</td>\n",
       "      <td>0</td>\n",
       "    </tr>\n",
       "    <tr>\n",
       "      <th>174102</th>\n",
       "      <td>366046</td>\n",
       "      <td>2015</td>\n",
       "      <td>9</td>\n",
       "      <td>30</td>\n",
       "      <td>QXE</td>\n",
       "      <td>HORIZON AIR</td>\n",
       "      <td>DHC8 DASH 8</td>\n",
       "      <td>A</td>\n",
       "      <td>303</td>\n",
       "      <td>10</td>\n",
       "      <td>...</td>\n",
       "      <td>1</td>\n",
       "      <td>0</td>\n",
       "      <td>0</td>\n",
       "      <td>0</td>\n",
       "      <td>0</td>\n",
       "      <td>0</td>\n",
       "      <td>0</td>\n",
       "      <td>0</td>\n",
       "      <td>0</td>\n",
       "      <td>0</td>\n",
       "    </tr>\n",
       "    <tr>\n",
       "      <th>174103</th>\n",
       "      <td>365823</td>\n",
       "      <td>2015</td>\n",
       "      <td>9</td>\n",
       "      <td>30</td>\n",
       "      <td>AWI</td>\n",
       "      <td>AIR WISCONSIN AIRLINES</td>\n",
       "      <td>CRJ100/200</td>\n",
       "      <td>A</td>\n",
       "      <td>188</td>\n",
       "      <td>10</td>\n",
       "      <td>...</td>\n",
       "      <td>0</td>\n",
       "      <td>0</td>\n",
       "      <td>0</td>\n",
       "      <td>0</td>\n",
       "      <td>0</td>\n",
       "      <td>0</td>\n",
       "      <td>0</td>\n",
       "      <td>0</td>\n",
       "      <td>1</td>\n",
       "      <td>0</td>\n",
       "    </tr>\n",
       "  </tbody>\n",
       "</table>\n",
       "<p>4 rows × 66 columns</p>\n",
       "</div>"
      ],
      "text/plain": [
       "        Record ID  Incident Year  Incident Month  Incident Day Operator ID  \\\n",
       "174100     365902           2015               9            30         SWA   \n",
       "174101     365903           2015               9            30         BUS   \n",
       "174102     366046           2015               9            30         QXE   \n",
       "174103     365823           2015               9            30         AWI   \n",
       "\n",
       "                      Operator     Aircraft Aircraft Type Aircraft Make  \\\n",
       "174100      SOUTHWEST AIRLINES    B-737-700             A           148   \n",
       "174101                BUSINESS  CITATIONJET             A           226   \n",
       "174102             HORIZON AIR  DHC8 DASH 8             A           303   \n",
       "174103  AIR WISCONSIN AIRLINES   CRJ100/200             A           188   \n",
       "\n",
       "       Aircraft Model     ...       Fuselage Strike  Fuselage Damage  \\\n",
       "174100             42     ...                     0                0   \n",
       "174101             49     ...                     1                1   \n",
       "174102             10     ...                     1                0   \n",
       "174103             10     ...                     0                0   \n",
       "\n",
       "       Landing Gear Strike  Landing Gear Damage Tail Strike Tail Damage  \\\n",
       "174100                   0                    0           0           0   \n",
       "174101                   0                    0           0           0   \n",
       "174102                   0                    0           0           0   \n",
       "174103                   0                    0           0           0   \n",
       "\n",
       "        Lights Strike Lights Damage  Other Strike Other Damage  \n",
       "174100              0             0             0            0  \n",
       "174101              0             0             0            0  \n",
       "174102              0             0             0            0  \n",
       "174103              0             0             1            0  \n",
       "\n",
       "[4 rows x 66 columns]"
      ]
     },
     "execution_count": 10,
     "metadata": {},
     "output_type": "execute_result"
    }
   ],
   "source": [
    "# Tail\n",
    "df.tail(4)"
   ]
  },
  {
   "cell_type": "code",
   "execution_count": 11,
   "metadata": {},
   "outputs": [
    {
     "data": {
      "text/plain": [
       "Index(['Record ID', 'Incident Year', 'Incident Month', 'Incident Day',\n",
       "       'Operator ID', 'Operator', 'Aircraft', 'Aircraft Type', 'Aircraft Make',\n",
       "       'Aircraft Model', 'Aircraft Mass', 'Engine Make', 'Engine Model',\n",
       "       'Engines', 'Engine Type', 'Engine1 Position', 'Engine2 Position',\n",
       "       'Engine3 Position', 'Engine4 Position', 'Airport ID', 'Airport',\n",
       "       'State', 'FAA Region', 'Warning Issued', 'Flight Phase', 'Visibility',\n",
       "       'Precipitation', 'Height', 'Speed', 'Distance', 'Species ID',\n",
       "       'Species Name', 'Species Quantity', 'Flight Impact', 'Fatalities',\n",
       "       'Injuries', 'Aircraft Damage', 'Radome Strike', 'Radome Damage',\n",
       "       'Windshield Strike', 'Windshield Damage', 'Nose Strike', 'Nose Damage',\n",
       "       'Engine1 Strike', 'Engine1 Damage', 'Engine2 Strike', 'Engine2 Damage',\n",
       "       'Engine3 Strike', 'Engine3 Damage', 'Engine4 Strike', 'Engine4 Damage',\n",
       "       'Engine Ingested', 'Propeller Strike', 'Propeller Damage',\n",
       "       'Wing or Rotor Strike', 'Wing or Rotor Damage', 'Fuselage Strike',\n",
       "       'Fuselage Damage', 'Landing Gear Strike', 'Landing Gear Damage',\n",
       "       'Tail Strike', 'Tail Damage', 'Lights Strike', 'Lights Damage',\n",
       "       'Other Strike', 'Other Damage'],\n",
       "      dtype='object')"
      ]
     },
     "execution_count": 11,
     "metadata": {},
     "output_type": "execute_result"
    }
   ],
   "source": [
    "# Accessing the features (column names)\n",
    "df.columns"
   ]
  },
  {
   "cell_type": "code",
   "execution_count": 12,
   "metadata": {},
   "outputs": [
    {
     "data": {
      "text/plain": [
       "RangeIndex(start=0, stop=174104, step=1)"
      ]
     },
     "execution_count": 12,
     "metadata": {},
     "output_type": "execute_result"
    }
   ],
   "source": [
    "# Accessing the index (row names)\n",
    "df.index"
   ]
  },
  {
   "cell_type": "code",
   "execution_count": 13,
   "metadata": {
    "collapsed": true
   },
   "outputs": [],
   "source": [
    "# Data Wrangling\n",
    "# In this section I'm going to split the dataframe into a few manageable arrays for you to use when you're making plots.\n",
    "# I'm going to remove all the rows that have any kind of Null value. These arrays will will be perfect for using as your x- and y-axes in the plots.\n",
    "# Re-reading the data file to clean up NULL values that make ugly graphs\n",
    "df = pd.read_csv(database,\n",
    "                 low_memory=False,             ### Prevents low_memory warning\n",
    "                 na_values=['UNKNOWN', 'UNK'], ### Adds UNKNOWN and UNK to list of NULLs\n",
    "                 na_filter=True,               ### Detect NA/NaN as actual NULL values\n",
    "                 skip_blank_lines=True)        ### Skip boring blank lines"
   ]
  },
  {
   "cell_type": "code",
   "execution_count": 14,
   "metadata": {
    "collapsed": true
   },
   "outputs": [],
   "source": [
    "# These are the columns we're going to take from the original dataframe\n",
    "subset_list = [\"Incident Year\",\n",
    "               \"Incident Month\",\n",
    "               \"Incident Day\",\n",
    "               \"Operator\",\n",
    "               \"State\",\n",
    "               \"Airport\", \n",
    "               \"Flight Phase\",\n",
    "               \"Species Name\"]\n",
    "\n",
    "# We're saving them into a new dataframe\n",
    "df = pd.DataFrame(data=df, columns=subset_list)\n",
    "\n",
    "# ...dropping NA's\n",
    "df = df.dropna(thresh=8)\n",
    "\n",
    "# ...and resetting the index \n",
    "df = df.reset_index(drop=True)"
   ]
  },
  {
   "cell_type": "code",
   "execution_count": 15,
   "metadata": {},
   "outputs": [
    {
     "data": {
      "text/plain": [
       "BUSINESS              12290\n",
       "SOUTHWEST AIRLINES    12080\n",
       "AMERICAN AIRLINES      8627\n",
       "MILITARY               7891\n",
       "UNITED AIRLINES        7797\n",
       "DELTA AIR LINES        5384\n",
       "FEDEX EXPRESS          5250\n",
       "1US AIRWAYS            3660\n",
       "UPS AIRLINES           2936\n",
       "SKYWEST AIRLINES       2762\n",
       "Name: Operator, dtype: int64"
      ]
     },
     "execution_count": 15,
     "metadata": {},
     "output_type": "execute_result"
    }
   ],
   "source": [
    "# Using the head() method to get just the first 10 operators\n",
    "df[\"Operator\"].value_counts().head(10)"
   ]
  },
  {
   "cell_type": "markdown",
   "metadata": {},
   "source": [
    "## Plotting\n",
    "\n",
    "We'll use these three methods to count the number of birdstrikes for each operator, then separate the data, and insert the separate arrays into the x- and y-axes:\n",
    "\n",
    "    value_counts(): This is a method that counts how many times a thing shows up in the array. For example in the Operator column, it will return the Airline Operator names and how many times each one was counted. This will work for any of our columns, so keep that in mind. \n",
    "\n",
    "\n",
    "    get_values(): Returns all the unique values and the number of times they occur. \n",
    "\n",
    "\n",
    "    index: This was oe of the \"Handy Data Exploration Methods\" and is how we access the index of the dataframe."
   ]
  },
  {
   "cell_type": "code",
   "execution_count": 16,
   "metadata": {
    "collapsed": true
   },
   "outputs": [],
   "source": [
    "# Plotting\n",
    "\n",
    "# Get the numnber of occurances of each operator\n",
    "operator_counts = df.Operator.value_counts()\n",
    "\n",
    "# Split and Save the Operator names in a variable\n",
    "operators = operator_counts.index\n",
    "\n",
    "# Split and Save the counts in another variable\n",
    "counts = operator_counts.get_values()"
   ]
  },
  {
   "cell_type": "code",
   "execution_count": 25,
   "metadata": {},
   "outputs": [
    {
     "data": {
      "image/png": "[encoded data removed]",
      "text/plain": [
       "<matplotlib.figure.Figure at 0x10e7366d8>"
      ]
     },
     "metadata": {},
     "output_type": "display_data"
    }
   ],
   "source": [
    "# Create barplot object\n",
    "barplot = sns.barplot(x=operators, y=counts)"
   ]
  },
  {
   "cell_type": "markdown",
   "metadata": {},
   "source": [
    "## Subsetting ¶\n",
    "The plot above shows every single unique airline operator in the dataset and there are too many to fit on the plot. This is not something you should be proud of and certainly don't hang it up on your refrigerator. When this happens, you need to get creative and plot more specifically. One way to be more specific is to plot the first 5 or 10 by taking a \"slice\" or subset like this: x=operators[:10], y=counts[:10] \n",
    "\n",
    "There are many ways to filter the data, this is just a convenient one because they are sorted."
   ]
  },
  {
   "cell_type": "code",
   "execution_count": 26,
   "metadata": {},
   "outputs": [
    {
     "data": {
      "image/png": "[encoded data removed]",
      "text/plain": [
       "<matplotlib.figure.Figure at 0x1a21ccf7b8>"
      ]
     },
     "metadata": {},
     "output_type": "display_data"
    }
   ],
   "source": [
    "# Create barplot object with subsetted rows\n",
    "barplot = sns.barplot(x=operators[:10], y=counts[:10])"
   ]
  },
  {
   "cell_type": "markdown",
   "metadata": {},
   "source": [
    "# Rotating labels \n",
    "The barplot looks like a barplot now! But the labels are all on jumbled up so we don't want to start autographing and selling them yet.\n",
    "\n",
    "This is how you rotate the 'xtick labels'\n",
    "\n",
    "Play around with it! Try 90, 45, 30, 69, 1, -95, 420, -214. Try them all!\n",
    "\n",
    "plt.xticks(rotation=90)"
   ]
  },
  {
   "cell_type": "code",
   "execution_count": 34,
   "metadata": {},
   "outputs": [
    {
     "data": {
      "image/png": "[encoded data removed]",
      "text/plain": [
       "<matplotlib.figure.Figure at 0x1a28bc1518>"
      ]
     },
     "metadata": {},
     "output_type": "display_data"
    }
   ],
   "source": [
    "# Create barplot object\n",
    "plt.xticks(rotation=90Changing the color palette ¶"
   ]
  },
  {
   "cell_type": "markdown",
   "metadata": {},
   "source": [
    "### Color Palettes\n",
    "\n",
    "The Seaborn colors look pretty cool by default and there are six variations of their default theme: deep, muted, pastel, bright, dark, and colorblind. You can use one of the Matplotlib or Seaborn built-in palettes or make your own. \n",
    "\n",
    "\n",
    "Make a list of colors:\n",
    "\n",
    "my_palette = [\"SlateGray\", \"CornflowerBlue\", \"PeachPuff\", \"MediumSeaGreen\"]\n",
    "\n",
    "Use sns.color_palette() to create a palette object\n",
    "\n",
    "current_palette = sns.color_palette(my_palette)\n",
    "\n",
    "and sns.set_palette() to set the palette and tell it how many colors you need (we want 10).\n",
    "\n",
    "sns.set_palette(current_palette, 10) \n",
    "\n",
    "\n",
    "These websites show some of the different color schemes and are way more helpful than I'll ever be so take a look at them.\n",
    "\n",
    "http://seaborn.pydata.org/tutorial/color_palettes.html\n",
    "\n",
    "https://chrisalbon.com/python/seaborn_color_palettes.html)\n",
    "barplot = sns.barplot(x=operators[:10], y=counts[:10])"
   ]
  },
  {
   "cell_type": "code",
   "execution_count": 35,
   "metadata": {},
   "outputs": [
    {
     "data": {
      "image/png": "[encoded data removed]",
      "text/plain": [
       "<matplotlib.figure.Figure at 0x1a28b78400>"
      ]
     },
     "metadata": {},
     "output_type": "display_data"
    }
   ],
   "source": [
    "# Create and Set a color palette with ridiculous color names\n",
    "my_palette = [\"SlateGray\", \"CornflowerBlue\", \"Gold\", \"SpringGreen\"]\n",
    "current_palette = sns.color_palette(my_palette)\n",
    "sns.set_palette(current_palette, 10)\n",
    "\n",
    "# Rotate the x-axis labels\n",
    "plt.xticks(rotation=90)\n",
    "\n",
    "# Create the barplot object\n",
    "barplot = sns.barplot(x=operators[:10], y=counts[:10])"
   ]
  },
  {
   "cell_type": "markdown",
   "metadata": {},
   "source": [
    "### Main Titles and Axis Titles ¶\n",
    "We're almost there! But what are we looking at exactly? We see some airlines and some kind of count of something. If your best friend walked in and saw this bargraph would they know what it meant? \n",
    "\n",
    "\n",
    "The answer is no, because we don't have titles. \n",
    "\n",
    "\n",
    "Last but not least, your plots MUST have proper titles! It has been shown in countless studies that plotters, charters, and fancy graphs makers make 200% more money than people that don't use plot titles. I made that up, I have no idea if that's true. Regardless, a person in your industry should be able to look at your plot and understand what the plot is saying! Pretty colors, graphics, and lines mean nothing without some description of what they represent.\n",
    "\n",
    "Don't neglect your graphs - give them titles!"
   ]
  },
  {
   "cell_type": "code",
   "execution_count": 36,
   "metadata": {},
   "outputs": [
    {
     "data": {
      "image/png": "[encoded data removed]",
      "text/plain": [
       "<matplotlib.figure.Figure at 0x1a25bb1278>"
      ]
     },
     "metadata": {},
     "output_type": "display_data"
    }
   ],
   "source": [
    "# Create and Set the color palette\n",
    "paired_palette = sns.color_palette(\"colorblind\")\n",
    "sns.set_palette(paired_palette, 10)\n",
    "\n",
    "# Rotate the x-labels\n",
    "plt.xticks(rotation=45)\n",
    "\n",
    "# Add the x-axis title\n",
    "plt.xlabel(\"x-axis Title: Airline operators\", fontsize=20)\n",
    "\n",
    "# Add the y-axis title\n",
    "plt.ylabel(\"y-axis Title: Number of birdstrikes\", fontsize=20)\n",
    "\n",
    "# Add the plot title\n",
    "plt.title(\"Main title: Birdstrikes per Airline Operator\", fontsize=20)\n",
    "\n",
    "# Create the plot\n",
    "barplot = sns.barplot(x=operators[:10], y=counts[:10])"
   ]
  },
  {
   "cell_type": "code",
   "execution_count": null,
   "metadata": {
    "collapsed": true
   },
   "outputs": [],
   "source": []
  }
 ],
 "metadata": {
  "kernelspec": {
   "display_name": "Python 3",
   "language": "python",
   "name": "python3"
  },
  "language_info": {
   "codemirror_mode": {
    "name": "ipython",
    "version": 3
   },
   "file_extension": ".py",
   "mimetype": "text/x-python",
   "name": "python",
   "nbconvert_exporter": "python",
   "pygments_lexer": "ipython3",
   "version": "3.6.3"
  }
 },
 "nbformat": 4,
 "nbformat_minor": 2
}
